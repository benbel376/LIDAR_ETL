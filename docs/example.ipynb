{
 "cells": [
  {
   "cell_type": "code",
   "execution_count": 1,
   "id": "dbb9b18c-f109-4fbe-9ca5-dc9f113a0078",
   "metadata": {},
   "outputs": [],
   "source": [
    "import sys\n",
    "import os\n",
    "sys.path.append(os.path.abspath(os.path.join('../src/pypoint/')))\n",
    "sys.path.append(os.path.abspath(os.path.join('../src/pypoint/scripts/')))"
   ]
  },
  {
   "cell_type": "code",
   "execution_count": 2,
   "id": "a3ed84d0",
   "metadata": {},
   "outputs": [],
   "source": [
    "\n",
    "from pypoint import Pypoint\n",
    "from util import Util\n",
    "Ut = Util()\n",
    "Pp = Pypoint()"
   ]
  },
  {
   "cell_type": "code",
   "execution_count": 3,
   "id": "26fa1689",
   "metadata": {},
   "outputs": [],
   "source": [
    "coordinates = [\n",
    "    [-93.786055, 41.928115],\n",
    "    [-93.796155, 41.948215],\n",
    "    [-93.776396, 41.948475],\n",
    "    [-93.765955, 41.938300],\n",
    "    [-93.755795, 41.908000],\n",
    "]"
   ]
  },
  {
   "cell_type": "code",
   "execution_count": 4,
   "id": "e4b184a5",
   "metadata": {},
   "outputs": [],
   "source": [
    "polygon2 = Ut.generate_polygon(coordinates, 4326)"
   ]
  },
  {
   "cell_type": "code",
   "execution_count": 5,
   "id": "b1ad182d",
   "metadata": {},
   "outputs": [
    {
     "data": {
      "text/html": [
       "<iframe srcdoc=\"&lt;!DOCTYPE html&gt;\n",
       "&lt;head&gt;    \n",
       "    &lt;meta http-equiv=&quot;content-type&quot; content=&quot;text/html; charset=UTF-8&quot; /&gt;\n",
       "    \n",
       "        &lt;script&gt;\n",
       "            L_NO_TOUCH = false;\n",
       "            L_DISABLE_3D = false;\n",
       "        &lt;/script&gt;\n",
       "    \n",
       "    &lt;style&gt;html, body {width: 100%;height: 100%;margin: 0;padding: 0;}&lt;/style&gt;\n",
       "    &lt;style&gt;#map {position:absolute;top:0;bottom:0;right:0;left:0;}&lt;/style&gt;\n",
       "    &lt;script src=&quot;https://cdn.jsdelivr.net/npm/leaflet@1.6.0/dist/leaflet.js&quot;&gt;&lt;/script&gt;\n",
       "    &lt;script src=&quot;https://code.jquery.com/jquery-1.12.4.min.js&quot;&gt;&lt;/script&gt;\n",
       "    &lt;script src=&quot;https://maxcdn.bootstrapcdn.com/bootstrap/3.2.0/js/bootstrap.min.js&quot;&gt;&lt;/script&gt;\n",
       "    &lt;script src=&quot;https://cdnjs.cloudflare.com/ajax/libs/Leaflet.awesome-markers/2.0.2/leaflet.awesome-markers.js&quot;&gt;&lt;/script&gt;\n",
       "    &lt;link rel=&quot;stylesheet&quot; href=&quot;https://cdn.jsdelivr.net/npm/leaflet@1.6.0/dist/leaflet.css&quot;/&gt;\n",
       "    &lt;link rel=&quot;stylesheet&quot; href=&quot;https://maxcdn.bootstrapcdn.com/bootstrap/3.2.0/css/bootstrap.min.css&quot;/&gt;\n",
       "    &lt;link rel=&quot;stylesheet&quot; href=&quot;https://maxcdn.bootstrapcdn.com/bootstrap/3.2.0/css/bootstrap-theme.min.css&quot;/&gt;\n",
       "    &lt;link rel=&quot;stylesheet&quot; href=&quot;https://maxcdn.bootstrapcdn.com/font-awesome/4.6.3/css/font-awesome.min.css&quot;/&gt;\n",
       "    &lt;link rel=&quot;stylesheet&quot; href=&quot;https://cdnjs.cloudflare.com/ajax/libs/Leaflet.awesome-markers/2.0.2/leaflet.awesome-markers.css&quot;/&gt;\n",
       "    &lt;link rel=&quot;stylesheet&quot; href=&quot;https://cdn.jsdelivr.net/gh/python-visualization/folium/folium/templates/leaflet.awesome.rotate.min.css&quot;/&gt;\n",
       "    \n",
       "            &lt;meta name=&quot;viewport&quot; content=&quot;width=device-width,\n",
       "                initial-scale=1.0, maximum-scale=1.0, user-scalable=no&quot; /&gt;\n",
       "            &lt;style&gt;\n",
       "                #map_be5e10d680866df45133378f3dcdb74a {\n",
       "                    position: relative;\n",
       "                    width: 100.0%;\n",
       "                    height: 100.0%;\n",
       "                    left: 0.0%;\n",
       "                    top: 0.0%;\n",
       "                }\n",
       "            &lt;/style&gt;\n",
       "        \n",
       "&lt;/head&gt;\n",
       "&lt;body&gt;    \n",
       "    \n",
       "            &lt;div class=&quot;folium-map&quot; id=&quot;map_be5e10d680866df45133378f3dcdb74a&quot; &gt;&lt;/div&gt;\n",
       "        \n",
       "&lt;/body&gt;\n",
       "&lt;script&gt;    \n",
       "    \n",
       "            var map_be5e10d680866df45133378f3dcdb74a = L.map(\n",
       "                &quot;map_be5e10d680866df45133378f3dcdb74a&quot;,\n",
       "                {\n",
       "                    center: [41.928115, -93.786055],\n",
       "                    crs: L.CRS.EPSG3857,\n",
       "                    zoom: 12,\n",
       "                    zoomControl: true,\n",
       "                    preferCanvas: false,\n",
       "                }\n",
       "            );\n",
       "\n",
       "            \n",
       "\n",
       "        \n",
       "    \n",
       "            var tile_layer_8e7a95be92806633a59cda4eef3078df = L.tileLayer(\n",
       "                &quot;https://cartodb-basemaps-{s}.global.ssl.fastly.net/light_all/{z}/{x}/{y}.png&quot;,\n",
       "                {&quot;attribution&quot;: &quot;\\u0026copy; \\u003ca href=\\&quot;http://www.openstreetmap.org/copyright\\&quot;\\u003eOpenStreetMap\\u003c/a\\u003e contributors \\u0026copy; \\u003ca href=\\&quot;http://cartodb.com/attributions\\&quot;\\u003eCartoDB\\u003c/a\\u003e, CartoDB \\u003ca href =\\&quot;http://cartodb.com/attributions\\&quot;\\u003eattributions\\u003c/a\\u003e&quot;, &quot;detectRetina&quot;: false, &quot;maxNativeZoom&quot;: 18, &quot;maxZoom&quot;: 18, &quot;minZoom&quot;: 0, &quot;noWrap&quot;: false, &quot;opacity&quot;: 1, &quot;subdomains&quot;: &quot;abc&quot;, &quot;tms&quot;: false}\n",
       "            ).addTo(map_be5e10d680866df45133378f3dcdb74a);\n",
       "        \n",
       "    \n",
       "\n",
       "        function geo_json_066edab364b41933f647d798f0a2efc7_onEachFeature(feature, layer) {\n",
       "            layer.on({\n",
       "            });\n",
       "        };\n",
       "        var geo_json_066edab364b41933f647d798f0a2efc7 = L.geoJson(null, {\n",
       "                onEachFeature: geo_json_066edab364b41933f647d798f0a2efc7_onEachFeature,\n",
       "            \n",
       "        });\n",
       "\n",
       "        function geo_json_066edab364b41933f647d798f0a2efc7_add (data) {\n",
       "            geo_json_066edab364b41933f647d798f0a2efc7\n",
       "                .addData(data)\n",
       "                .addTo(map_be5e10d680866df45133378f3dcdb74a);\n",
       "        }\n",
       "            geo_json_066edab364b41933f647d798f0a2efc7_add({&quot;bbox&quot;: [-93.796155, 41.908, -93.755795, 41.948475], &quot;features&quot;: [{&quot;bbox&quot;: [-93.796155, 41.908, -93.755795, 41.948475], &quot;geometry&quot;: {&quot;coordinates&quot;: [[[-93.786055, 41.928115], [-93.796155, 41.948215], [-93.776396, 41.948475], [-93.765955, 41.9383], [-93.755795, 41.908], [-93.786055, 41.928115]]], &quot;type&quot;: &quot;Polygon&quot;}, &quot;id&quot;: &quot;0&quot;, &quot;properties&quot;: {}, &quot;type&quot;: &quot;Feature&quot;}], &quot;type&quot;: &quot;FeatureCollection&quot;});\n",
       "\n",
       "        \n",
       "    \n",
       "                var lat_lng_popup_ff64468dafd3188ea697a2aa11040941 = L.popup();\n",
       "                function latLngPop(e) {\n",
       "                    lat_lng_popup_ff64468dafd3188ea697a2aa11040941\n",
       "                        .setLatLng(e.latlng)\n",
       "                        .setContent(&quot;Latitude: &quot; + e.latlng.lat.toFixed(4) +\n",
       "                                    &quot;&lt;br&gt;Longitude: &quot; + e.latlng.lng.toFixed(4))\n",
       "                        .openOn(map_be5e10d680866df45133378f3dcdb74a);\n",
       "                    }\n",
       "                map_be5e10d680866df45133378f3dcdb74a.on(&#x27;click&#x27;, latLngPop);\n",
       "            \n",
       "&lt;/script&gt;\" width=\"600\" height=\"400\"style=\"border:none !important;\" \"allowfullscreen\" \"webkitallowfullscreen\" \"mozallowfullscreen\"></iframe>"
      ],
      "text/plain": [
       "<branca.element.Figure at 0x7feff8137f10>"
      ]
     },
     "execution_count": 5,
     "metadata": {},
     "output_type": "execute_result"
    }
   ],
   "source": [
    "Ut.show_on_map(polygon2, 12)"
   ]
  },
  {
   "cell_type": "code",
   "execution_count": null,
   "id": "f6ad610a",
   "metadata": {},
   "outputs": [],
   "source": [
    "def fetch_data(self, coordinates, \n",
    "                   meta_path, \n",
    "                   pipeline, \n",
    "                   epsg=[3857, 4326], \n",
    "                   url='https://s3-us-west-2.amazonaws.com/usgs-lidar-public/'):"
   ]
  }
 ],
 "metadata": {
  "kernelspec": {
   "display_name": "Python 3.10.5",
   "language": "python",
   "name": "python3"
  },
  "language_info": {
   "codemirror_mode": {
    "name": "ipython",
    "version": 3
   },
   "file_extension": ".py",
   "mimetype": "text/x-python",
   "name": "python",
   "nbconvert_exporter": "python",
   "pygments_lexer": "ipython3",
   "version": "3.10.5"
  },
  "vscode": {
   "interpreter": {
    "hash": "ee0d6c84238e11baf2dfb8d8247b375b7cb0947e498990c7bcd1ca687650edbd"
   }
  }
 },
 "nbformat": 4,
 "nbformat_minor": 5
}
