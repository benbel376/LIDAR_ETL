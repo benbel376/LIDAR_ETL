{
 "cells": [
  {
   "cell_type": "code",
   "execution_count": 37,
   "id": "aaeb4037-473f-4f00-b113-d36e612b889c",
   "metadata": {},
   "outputs": [],
   "source": [
    "import pdal\n",
    "import json\n",
    "import geopandas\n",
    "import pandas as pd\n",
    "from shapely.geometry import Polygon, Point\n",
    "import numpy as np"
   ]
  },
  {
   "cell_type": "code",
   "execution_count": 38,
   "id": "e3924fb4-2bc5-48d0-9465-bb1bb5cf5212",
   "metadata": {},
   "outputs": [],
   "source": [
    "# loading json file\n",
    "def read_json(json_path):\n",
    "    try:\n",
    "        with open(json_path) as js:\n",
    "            json_obj = json.load(js)\n",
    "        return json_obj\n",
    "\n",
    "    except FileNotFoundError:\n",
    "        print('File not found.')\n"
   ]
  },
  {
   "cell_type": "code",
   "execution_count": 39,
   "id": "01ceb63b-e5d4-47cb-ad93-6c1ddf80cce3",
   "metadata": {},
   "outputs": [],
   "source": [
    "dicti = read_json(\"pdal.json\")"
   ]
  },
  {
   "cell_type": "code",
   "execution_count": 40,
   "id": "e85bee3b-6aad-4215-9dca-e811888317ce",
   "metadata": {},
   "outputs": [
    {
     "data": {
      "text/plain": [
       "<pdal.pipeline.Pipeline at 0x7fad597e17b0>"
      ]
     },
     "execution_count": 40,
     "metadata": {},
     "output_type": "execute_result"
    }
   ],
   "source": [
    "pipe = pdal.Pipeline(json.dumps(dicti))\n",
    "pipe"
   ]
  },
  {
   "cell_type": "code",
   "execution_count": 41,
   "id": "6a640173-d943-489e-9f1e-01d9346965f2",
   "metadata": {},
   "outputs": [
    {
     "data": {
      "text/plain": [
       "3258"
      ]
     },
     "execution_count": 41,
     "metadata": {},
     "output_type": "execute_result"
    }
   ],
   "source": [
    "pipe.execute()"
   ]
  },
  {
   "cell_type": "code",
   "execution_count": 42,
   "id": "3d1e7490-a90f-477d-8b2d-dd152c13652c",
   "metadata": {},
   "outputs": [
    {
     "data": {
      "text/plain": [
       "[array([(2, 0, 56179.61983638, 106, 1, 17583, 85, 1, 4., 1, 69, 446184.5579387 , 4652659.28445827, 287.2 ),\n",
       "        (2, 0, 56179.61985671,  82, 1, 17583, 85, 1, 4., 1, 69, 446181.45913405, 4652659.62658105, 291.26),\n",
       "        (2, 0, 56179.63088507,  84, 1, 17583, 85, 1, 4., 0, 69, 446176.75123328, 4652659.62525296, 291.28),\n",
       "        ...,\n",
       "        (1, 0, 56180.69455866,   5, 1, 17583, 85, 1, 8., 1, 69, 446128.45817959, 4652595.8836282 , 297.23),\n",
       "        (2, 0, 56180.72217532,   4, 2, 17583, 85, 2, 8., 1, 69, 446115.83049553, 4652596.03881521, 290.38),\n",
       "        (1, 0, 56180.749731  ,  73, 1, 17583, 85, 1, 8., 1, 69, 446116.98445083, 4652593.25883094, 309.45)],\n",
       "       dtype=[('Classification', 'u1'), ('EdgeOfFlightLine', 'u1'), ('GpsTime', '<f8'), ('Intensity', '<u2'), ('NumberOfReturns', 'u1'), ('OriginId', '<u4'), ('PointSourceId', '<u2'), ('ReturnNumber', 'u1'), ('ScanAngleRank', '<f4'), ('ScanDirectionFlag', 'u1'), ('UserData', 'u1'), ('X', '<f8'), ('Y', '<f8'), ('Z', '<f8')])]"
      ]
     },
     "execution_count": 42,
     "metadata": {},
     "output_type": "execute_result"
    }
   ],
   "source": [
    "pipe.arrays"
   ]
  },
  {
   "cell_type": "code",
   "execution_count": 43,
   "id": "bfcd1c94-4968-425d-9543-99d9c2234ab5",
   "metadata": {},
   "outputs": [
    {
     "data": {
      "text/html": [
       "<div>\n",
       "<style scoped>\n",
       "    .dataframe tbody tr th:only-of-type {\n",
       "        vertical-align: middle;\n",
       "    }\n",
       "\n",
       "    .dataframe tbody tr th {\n",
       "        vertical-align: top;\n",
       "    }\n",
       "\n",
       "    .dataframe thead th {\n",
       "        text-align: right;\n",
       "    }\n",
       "</style>\n",
       "<table border=\"1\" class=\"dataframe\">\n",
       "  <thead>\n",
       "    <tr style=\"text-align: right;\">\n",
       "      <th></th>\n",
       "      <th>X</th>\n",
       "      <th>Y</th>\n",
       "      <th>Z</th>\n",
       "    </tr>\n",
       "  </thead>\n",
       "  <tbody>\n",
       "    <tr>\n",
       "      <th>0</th>\n",
       "      <td>446184.558</td>\n",
       "      <td>4652659.284</td>\n",
       "      <td>287.20</td>\n",
       "    </tr>\n",
       "    <tr>\n",
       "      <th>1</th>\n",
       "      <td>446181.459</td>\n",
       "      <td>4652659.627</td>\n",
       "      <td>291.26</td>\n",
       "    </tr>\n",
       "    <tr>\n",
       "      <th>2</th>\n",
       "      <td>446176.751</td>\n",
       "      <td>4652659.625</td>\n",
       "      <td>291.28</td>\n",
       "    </tr>\n",
       "    <tr>\n",
       "      <th>3</th>\n",
       "      <td>446178.519</td>\n",
       "      <td>4652659.353</td>\n",
       "      <td>291.24</td>\n",
       "    </tr>\n",
       "    <tr>\n",
       "      <th>4</th>\n",
       "      <td>446186.870</td>\n",
       "      <td>4652657.259</td>\n",
       "      <td>287.15</td>\n",
       "    </tr>\n",
       "    <tr>\n",
       "      <th>...</th>\n",
       "      <td>...</td>\n",
       "      <td>...</td>\n",
       "      <td>...</td>\n",
       "    </tr>\n",
       "    <tr>\n",
       "      <th>3253</th>\n",
       "      <td>446148.149</td>\n",
       "      <td>4652596.394</td>\n",
       "      <td>288.54</td>\n",
       "    </tr>\n",
       "    <tr>\n",
       "      <th>3254</th>\n",
       "      <td>446179.766</td>\n",
       "      <td>4652591.508</td>\n",
       "      <td>290.19</td>\n",
       "    </tr>\n",
       "    <tr>\n",
       "      <th>3255</th>\n",
       "      <td>446128.458</td>\n",
       "      <td>4652595.884</td>\n",
       "      <td>297.23</td>\n",
       "    </tr>\n",
       "    <tr>\n",
       "      <th>3256</th>\n",
       "      <td>446115.830</td>\n",
       "      <td>4652596.039</td>\n",
       "      <td>290.38</td>\n",
       "    </tr>\n",
       "    <tr>\n",
       "      <th>3257</th>\n",
       "      <td>446116.984</td>\n",
       "      <td>4652593.259</td>\n",
       "      <td>309.45</td>\n",
       "    </tr>\n",
       "  </tbody>\n",
       "</table>\n",
       "<p>3258 rows × 3 columns</p>\n",
       "</div>"
      ],
      "text/plain": [
       "               X            Y       Z\n",
       "0     446184.558  4652659.284  287.20\n",
       "1     446181.459  4652659.627  291.26\n",
       "2     446176.751  4652659.625  291.28\n",
       "3     446178.519  4652659.353  291.24\n",
       "4     446186.870  4652657.259  287.15\n",
       "...          ...          ...     ...\n",
       "3253  446148.149  4652596.394  288.54\n",
       "3254  446179.766  4652591.508  290.19\n",
       "3255  446128.458  4652595.884  297.23\n",
       "3256  446115.830  4652596.039  290.38\n",
       "3257  446116.984  4652593.259  309.45\n",
       "\n",
       "[3258 rows x 3 columns]"
      ]
     },
     "execution_count": 43,
     "metadata": {},
     "output_type": "execute_result"
    }
   ],
   "source": [
    "data = pd.read_csv(\"iowa.csv\")\n",
    "data2 = data.iloc[:,-3:]\n",
    "data2"
   ]
  },
  {
   "cell_type": "code",
   "execution_count": null,
   "id": "60137fed-d1ed-420d-b8df-9589eac56238",
   "metadata": {},
   "outputs": [],
   "source": [
    "import geopandas as gpd\n",
    "from shapely.geometry import Polygon\n",
    "\n",
    "lat_point_list = [50.854457, 52.518172, 50.072651, 48.853033, 50.854457]\n",
    "lon_point_list = [4.377184, 13.407759, 14.435935, 2.349553, 4.377184]\n",
    "\n",
    "polygon_geom = Polygon(zip(lon_point_list, lat_point_list))\n",
    "crs = {'init': 'epsg:4326'}\n",
    "polygon = gpd.GeoDataFrame(index=[0], crs=crs, geometry=[polygon_geom])       \n",
    "\n",
    "polygon.to_file(filename='polygon.geojson', driver='GeoJSON')\n",
    "polygon.to_file(filename='polygon.shp', driver=\"ESRI Shapefile\")"
   ]
  },
  {
   "cell_type": "code",
   "execution_count": null,
   "id": "b72c5664-da6a-4ac8-89dd-2033e4f59025",
   "metadata": {},
   "outputs": [],
   "source": [
    "import folium\n",
    "m = folium.Map([50.854457, 4.377184], zoom_start=5, tiles='cartodbpositron')\n",
    "folium.GeoJson(polygon).add_to(m)\n",
    "folium.LatLngPopup().add_to(m)\n",
    "m"
   ]
  },
  {
   "cell_type": "code",
   "execution_count": 47,
   "id": "5c063e3c-d735-4b51-ae3d-3afc62740307",
   "metadata": {},
   "outputs": [],
   "source": [
    "def generate_geo(pipe, epsg):\n",
    "    try:\n",
    "        cloud_points = []\n",
    "        elevations =[]\n",
    "        geometry_points=[]\n",
    "        for row in pipe.arrays[0]:\n",
    "            lst = row.tolist()[-3:]\n",
    "            cloud_points.append(lst)\n",
    "            elevations.append(lst[2])\n",
    "            point = Point(lst[0], lst[1])\n",
    "            geometry_points.append(point)\n",
    "        geodf = geopandas.GeoDataFrame(columns=[\"elevation\", \"geometry\"])\n",
    "        geodf['elevation'] = elevations\n",
    "        geodf['geometry'] = geometry_points\n",
    "        geodf = geodf.set_geometry(\"geometry\")\n",
    "        geodf.set_crs(epsg = epsg, inplace=True)\n",
    "        return geodf\n",
    "    except RuntimeError as e:\n",
    "        self.logger.exception('fails to extract geo data frame')\n",
    "        print(e)"
   ]
  },
  {
   "cell_type": "code",
   "execution_count": 48,
   "id": "368265d8-8f7d-43e8-93e5-31be92504b92",
   "metadata": {},
   "outputs": [
    {
     "data": {
      "text/html": [
       "<div>\n",
       "<style scoped>\n",
       "    .dataframe tbody tr th:only-of-type {\n",
       "        vertical-align: middle;\n",
       "    }\n",
       "\n",
       "    .dataframe tbody tr th {\n",
       "        vertical-align: top;\n",
       "    }\n",
       "\n",
       "    .dataframe thead th {\n",
       "        text-align: right;\n",
       "    }\n",
       "</style>\n",
       "<table border=\"1\" class=\"dataframe\">\n",
       "  <thead>\n",
       "    <tr style=\"text-align: right;\">\n",
       "      <th></th>\n",
       "      <th>elevation</th>\n",
       "      <th>geometry</th>\n",
       "    </tr>\n",
       "  </thead>\n",
       "  <tbody>\n",
       "    <tr>\n",
       "      <th>0</th>\n",
       "      <td>287.20</td>\n",
       "      <td>POINT (446184.55794 4652659.28446)</td>\n",
       "    </tr>\n",
       "    <tr>\n",
       "      <th>1</th>\n",
       "      <td>291.26</td>\n",
       "      <td>POINT (446181.45913 4652659.62658)</td>\n",
       "    </tr>\n",
       "    <tr>\n",
       "      <th>2</th>\n",
       "      <td>291.28</td>\n",
       "      <td>POINT (446176.75123 4652659.62525)</td>\n",
       "    </tr>\n",
       "    <tr>\n",
       "      <th>3</th>\n",
       "      <td>291.24</td>\n",
       "      <td>POINT (446178.51927 4652659.35250)</td>\n",
       "    </tr>\n",
       "    <tr>\n",
       "      <th>4</th>\n",
       "      <td>287.15</td>\n",
       "      <td>POINT (446186.87045 4652657.25891)</td>\n",
       "    </tr>\n",
       "    <tr>\n",
       "      <th>...</th>\n",
       "      <td>...</td>\n",
       "      <td>...</td>\n",
       "    </tr>\n",
       "    <tr>\n",
       "      <th>3253</th>\n",
       "      <td>288.54</td>\n",
       "      <td>POINT (446148.14911 4652596.39358)</td>\n",
       "    </tr>\n",
       "    <tr>\n",
       "      <th>3254</th>\n",
       "      <td>290.19</td>\n",
       "      <td>POINT (446179.76592 4652591.50776)</td>\n",
       "    </tr>\n",
       "    <tr>\n",
       "      <th>3255</th>\n",
       "      <td>297.23</td>\n",
       "      <td>POINT (446128.45818 4652595.88363)</td>\n",
       "    </tr>\n",
       "    <tr>\n",
       "      <th>3256</th>\n",
       "      <td>290.38</td>\n",
       "      <td>POINT (446115.83050 4652596.03882)</td>\n",
       "    </tr>\n",
       "    <tr>\n",
       "      <th>3257</th>\n",
       "      <td>309.45</td>\n",
       "      <td>POINT (446116.98445 4652593.25883)</td>\n",
       "    </tr>\n",
       "  </tbody>\n",
       "</table>\n",
       "<p>3258 rows × 2 columns</p>\n",
       "</div>"
      ],
      "text/plain": [
       "      elevation                            geometry\n",
       "0        287.20  POINT (446184.55794 4652659.28446)\n",
       "1        291.26  POINT (446181.45913 4652659.62658)\n",
       "2        291.28  POINT (446176.75123 4652659.62525)\n",
       "3        291.24  POINT (446178.51927 4652659.35250)\n",
       "4        287.15  POINT (446186.87045 4652657.25891)\n",
       "...         ...                                 ...\n",
       "3253     288.54  POINT (446148.14911 4652596.39358)\n",
       "3254     290.19  POINT (446179.76592 4652591.50776)\n",
       "3255     297.23  POINT (446128.45818 4652595.88363)\n",
       "3256     290.38  POINT (446115.83050 4652596.03882)\n",
       "3257     309.45  POINT (446116.98445 4652593.25883)\n",
       "\n",
       "[3258 rows x 2 columns]"
      ]
     },
     "execution_count": 48,
     "metadata": {},
     "output_type": "execute_result"
    }
   ],
   "source": [
    "generate_geo(pipe, 4326)"
   ]
  },
  {
   "cell_type": "code",
   "execution_count": null,
   "id": "3be47fde-1ab9-43b1-98fc-85fcf5e342f3",
   "metadata": {},
   "outputs": [],
   "source": []
  }
 ],
 "metadata": {
  "kernelspec": {
   "display_name": "Python 3 (ipykernel)",
   "language": "python",
   "name": "python3"
  },
  "language_info": {
   "codemirror_mode": {
    "name": "ipython",
    "version": 3
   },
   "file_extension": ".py",
   "mimetype": "text/x-python",
   "name": "python",
   "nbconvert_exporter": "python",
   "pygments_lexer": "ipython3",
   "version": "3.10.5"
  }
 },
 "nbformat": 4,
 "nbformat_minor": 5
}
