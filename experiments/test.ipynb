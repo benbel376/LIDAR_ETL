{
 "cells": [
  {
   "cell_type": "code",
   "execution_count": 1,
   "id": "aaeb4037-473f-4f00-b113-d36e612b889c",
   "metadata": {},
   "outputs": [],
   "source": [
    "import pdal\n",
    "import json\n",
    "import geopandas\n",
    "import pandas as pd\n",
    "from shapely.geometry import Polygon, Point\n",
    "import numpy as np\n",
    "import warnings\n",
    "warnings.filterwarnings(\"ignore\")"
   ]
  },
  {
   "cell_type": "code",
   "execution_count": 5,
   "id": "e3924fb4-2bc5-48d0-9465-bb1bb5cf5212",
   "metadata": {},
   "outputs": [],
   "source": [
    "# loading json file\n",
    "def read_json(json_path):\n",
    "    try:\n",
    "        with open(json_path) as js:\n",
    "            json_obj = json.load(js)\n",
    "        return json_obj\n",
    "\n",
    "    except FileNotFoundError:\n",
    "        print('File not found.')\n"
   ]
  },
  {
   "cell_type": "code",
   "execution_count": 6,
   "id": "01ceb63b-e5d4-47cb-ad93-6c1ddf80cce3",
   "metadata": {},
   "outputs": [],
   "source": [
    "dicti = read_json(\"pdal.json\")"
   ]
  },
  {
   "cell_type": "code",
   "execution_count": 7,
   "id": "35e630a6-ca9c-464f-a1cc-e3c3641c5469",
   "metadata": {},
   "outputs": [
    {
     "name": "stdout",
     "output_type": "stream",
     "text": [
      "POLYGON ((-10436887.43333523 5148706.389047224, -10436887.43333523 5148721.349314567, -10436876.301386151 5148721.349314567, -10436876.301386151 5148706.389047224, -10436887.43333523 5148706.389047224))\n"
     ]
    }
   ],
   "source": [
    "import geopandas as gpd\n",
    "from shapely.geometry import Polygon\n",
    "MINX, MINY, MAXX, MAXY = [-10436887.43333523, 5148706.389047224, -10436876.301386151, 5148721.349314567]\n",
    "polygon_g = Polygon(((MINX, MINY), (MINX, MAXY), (MAXX, MAXY), (MAXX, MINY), (MINX, MINY)))\n",
    "\n",
    "crs = {'init': 'epsg:4326'}\n",
    "polygon = gpd.GeoDataFrame(index=[0], crs=crs, geometry=[polygon_g])       \n",
    "print(str(polygon.iloc[:,0][0]))"
   ]
  },
  {
   "cell_type": "code",
   "execution_count": 8,
   "id": "42f2d0e5-282e-4e7d-b452-1a744a1f1436",
   "metadata": {},
   "outputs": [
    {
     "data": {
      "text/html": [
       "<div style=\"width:100%;\"><div style=\"position:relative;width:100%;height:0;padding-bottom:60%;\"><span style=\"color:#565656\">Make this Notebook Trusted to load map: File -> Trust Notebook</span><iframe srcdoc=\"&lt;!DOCTYPE html&gt;\n",
       "&lt;head&gt;    \n",
       "    &lt;meta http-equiv=&quot;content-type&quot; content=&quot;text/html; charset=UTF-8&quot; /&gt;\n",
       "    \n",
       "        &lt;script&gt;\n",
       "            L_NO_TOUCH = false;\n",
       "            L_DISABLE_3D = false;\n",
       "        &lt;/script&gt;\n",
       "    \n",
       "    &lt;style&gt;html, body {width: 100%;height: 100%;margin: 0;padding: 0;}&lt;/style&gt;\n",
       "    &lt;style&gt;#map {position:absolute;top:0;bottom:0;right:0;left:0;}&lt;/style&gt;\n",
       "    &lt;script src=&quot;https://cdn.jsdelivr.net/npm/leaflet@1.6.0/dist/leaflet.js&quot;&gt;&lt;/script&gt;\n",
       "    &lt;script src=&quot;https://code.jquery.com/jquery-1.12.4.min.js&quot;&gt;&lt;/script&gt;\n",
       "    &lt;script src=&quot;https://maxcdn.bootstrapcdn.com/bootstrap/3.2.0/js/bootstrap.min.js&quot;&gt;&lt;/script&gt;\n",
       "    &lt;script src=&quot;https://cdnjs.cloudflare.com/ajax/libs/Leaflet.awesome-markers/2.0.2/leaflet.awesome-markers.js&quot;&gt;&lt;/script&gt;\n",
       "    &lt;link rel=&quot;stylesheet&quot; href=&quot;https://cdn.jsdelivr.net/npm/leaflet@1.6.0/dist/leaflet.css&quot;/&gt;\n",
       "    &lt;link rel=&quot;stylesheet&quot; href=&quot;https://maxcdn.bootstrapcdn.com/bootstrap/3.2.0/css/bootstrap.min.css&quot;/&gt;\n",
       "    &lt;link rel=&quot;stylesheet&quot; href=&quot;https://maxcdn.bootstrapcdn.com/bootstrap/3.2.0/css/bootstrap-theme.min.css&quot;/&gt;\n",
       "    &lt;link rel=&quot;stylesheet&quot; href=&quot;https://maxcdn.bootstrapcdn.com/font-awesome/4.6.3/css/font-awesome.min.css&quot;/&gt;\n",
       "    &lt;link rel=&quot;stylesheet&quot; href=&quot;https://cdnjs.cloudflare.com/ajax/libs/Leaflet.awesome-markers/2.0.2/leaflet.awesome-markers.css&quot;/&gt;\n",
       "    &lt;link rel=&quot;stylesheet&quot; href=&quot;https://cdn.jsdelivr.net/gh/python-visualization/folium/folium/templates/leaflet.awesome.rotate.min.css&quot;/&gt;\n",
       "    \n",
       "            &lt;meta name=&quot;viewport&quot; content=&quot;width=device-width,\n",
       "                initial-scale=1.0, maximum-scale=1.0, user-scalable=no&quot; /&gt;\n",
       "            &lt;style&gt;\n",
       "                #map_c6a3b4c4f2095886c67f5a9d966a4e1b {\n",
       "                    position: relative;\n",
       "                    width: 100.0%;\n",
       "                    height: 100.0%;\n",
       "                    left: 0.0%;\n",
       "                    top: 0.0%;\n",
       "                }\n",
       "            &lt;/style&gt;\n",
       "        \n",
       "&lt;/head&gt;\n",
       "&lt;body&gt;    \n",
       "    \n",
       "            &lt;div class=&quot;folium-map&quot; id=&quot;map_c6a3b4c4f2095886c67f5a9d966a4e1b&quot; &gt;&lt;/div&gt;\n",
       "        \n",
       "&lt;/body&gt;\n",
       "&lt;script&gt;    \n",
       "    \n",
       "            var map_c6a3b4c4f2095886c67f5a9d966a4e1b = L.map(\n",
       "                &quot;map_c6a3b4c4f2095886c67f5a9d966a4e1b&quot;,\n",
       "                {\n",
       "                    center: [41.918015, -93.756155],\n",
       "                    crs: L.CRS.EPSG3857,\n",
       "                    zoom: 5,\n",
       "                    zoomControl: true,\n",
       "                    preferCanvas: false,\n",
       "                }\n",
       "            );\n",
       "\n",
       "            \n",
       "\n",
       "        \n",
       "    \n",
       "            var tile_layer_877eab75324d0c1e72bca35dc7b67a1b = L.tileLayer(\n",
       "                &quot;https://cartodb-basemaps-{s}.global.ssl.fastly.net/light_all/{z}/{x}/{y}.png&quot;,\n",
       "                {&quot;attribution&quot;: &quot;\\u0026copy; \\u003ca href=\\&quot;http://www.openstreetmap.org/copyright\\&quot;\\u003eOpenStreetMap\\u003c/a\\u003e contributors \\u0026copy; \\u003ca href=\\&quot;http://cartodb.com/attributions\\&quot;\\u003eCartoDB\\u003c/a\\u003e, CartoDB \\u003ca href =\\&quot;http://cartodb.com/attributions\\&quot;\\u003eattributions\\u003c/a\\u003e&quot;, &quot;detectRetina&quot;: false, &quot;maxNativeZoom&quot;: 18, &quot;maxZoom&quot;: 18, &quot;minZoom&quot;: 0, &quot;noWrap&quot;: false, &quot;opacity&quot;: 1, &quot;subdomains&quot;: &quot;abc&quot;, &quot;tms&quot;: false}\n",
       "            ).addTo(map_c6a3b4c4f2095886c67f5a9d966a4e1b);\n",
       "        \n",
       "    \n",
       "\n",
       "        function geo_json_cf65a83ce9c612c8d1a0c319bec60153_onEachFeature(feature, layer) {\n",
       "            layer.on({\n",
       "            });\n",
       "        };\n",
       "        var geo_json_cf65a83ce9c612c8d1a0c319bec60153 = L.geoJson(null, {\n",
       "                onEachFeature: geo_json_cf65a83ce9c612c8d1a0c319bec60153_onEachFeature,\n",
       "            \n",
       "        });\n",
       "\n",
       "        function geo_json_cf65a83ce9c612c8d1a0c319bec60153_add (data) {\n",
       "            geo_json_cf65a83ce9c612c8d1a0c319bec60153\n",
       "                .addData(data)\n",
       "                .addTo(map_c6a3b4c4f2095886c67f5a9d966a4e1b);\n",
       "        }\n",
       "            geo_json_cf65a83ce9c612c8d1a0c319bec60153_add({&quot;bbox&quot;: [-10436887.43333523, 5148706.389047224, -10436876.301386151, 5148721.349314567], &quot;features&quot;: [{&quot;bbox&quot;: [-10436887.43333523, 5148706.389047224, -10436876.301386151, 5148721.349314567], &quot;geometry&quot;: {&quot;coordinates&quot;: [[[-10436887.43333523, 5148706.389047224], [-10436887.43333523, 5148721.349314567], [-10436876.301386151, 5148721.349314567], [-10436876.301386151, 5148706.389047224], [-10436887.43333523, 5148706.389047224]]], &quot;type&quot;: &quot;Polygon&quot;}, &quot;id&quot;: &quot;0&quot;, &quot;properties&quot;: {}, &quot;type&quot;: &quot;Feature&quot;}], &quot;type&quot;: &quot;FeatureCollection&quot;});\n",
       "\n",
       "        \n",
       "    \n",
       "                var lat_lng_popup_4a9b4eed28528de30969d07d25ab529a = L.popup();\n",
       "                function latLngPop(e) {\n",
       "                    lat_lng_popup_4a9b4eed28528de30969d07d25ab529a\n",
       "                        .setLatLng(e.latlng)\n",
       "                        .setContent(&quot;Latitude: &quot; + e.latlng.lat.toFixed(4) +\n",
       "                                    &quot;&lt;br&gt;Longitude: &quot; + e.latlng.lng.toFixed(4))\n",
       "                        .openOn(map_c6a3b4c4f2095886c67f5a9d966a4e1b);\n",
       "                    }\n",
       "                map_c6a3b4c4f2095886c67f5a9d966a4e1b.on(&#x27;click&#x27;, latLngPop);\n",
       "            \n",
       "&lt;/script&gt;\" style=\"position:absolute;width:100%;height:100%;left:0;top:0;border:none !important;\" allowfullscreen webkitallowfullscreen mozallowfullscreen></iframe></div></div>"
      ],
      "text/plain": [
       "<folium.folium.Map at 0x7f7f6e0ab700>"
      ]
     },
     "execution_count": 8,
     "metadata": {},
     "output_type": "execute_result"
    }
   ],
   "source": [
    "import folium\n",
    "m = folium.Map([41.918015, -93.756155],zoom_start=5, tiles='cartodbpositron')\n",
    "folium.GeoJson(polygon).add_to(m)\n",
    "folium.LatLngPopup().add_to(m)\n",
    "m"
   ]
  },
  {
   "cell_type": "code",
   "execution_count": 9,
   "id": "df9bc2af-c654-4432-8489-835c6c85532b",
   "metadata": {},
   "outputs": [],
   "source": [
    "dicti['pipeline'][0]['polygon'] = str(polygon.iloc[:,0][0])"
   ]
  },
  {
   "cell_type": "code",
   "execution_count": 10,
   "id": "e85bee3b-6aad-4215-9dca-e811888317ce",
   "metadata": {},
   "outputs": [],
   "source": [
    "pipe = pdal.Pipeline(json.dumps(dicti))"
   ]
  },
  {
   "cell_type": "code",
   "execution_count": 11,
   "id": "6a640173-d943-489e-9f1e-01d9346965f2",
   "metadata": {},
   "outputs": [
    {
     "data": {
      "text/plain": [
       "179"
      ]
     },
     "execution_count": 11,
     "metadata": {},
     "output_type": "execute_result"
    }
   ],
   "source": [
    "pipe.execute()"
   ]
  },
  {
   "cell_type": "code",
   "execution_count": 12,
   "id": "bfcd1c94-4968-425d-9543-99d9c2234ab5",
   "metadata": {},
   "outputs": [
    {
     "data": {
      "text/html": [
       "<div>\n",
       "<style scoped>\n",
       "    .dataframe tbody tr th:only-of-type {\n",
       "        vertical-align: middle;\n",
       "    }\n",
       "\n",
       "    .dataframe tbody tr th {\n",
       "        vertical-align: top;\n",
       "    }\n",
       "\n",
       "    .dataframe thead th {\n",
       "        text-align: right;\n",
       "    }\n",
       "</style>\n",
       "<table border=\"1\" class=\"dataframe\">\n",
       "  <thead>\n",
       "    <tr style=\"text-align: right;\">\n",
       "      <th></th>\n",
       "      <th>X</th>\n",
       "      <th>Y</th>\n",
       "      <th>Z</th>\n",
       "    </tr>\n",
       "  </thead>\n",
       "  <tbody>\n",
       "    <tr>\n",
       "      <th>0</th>\n",
       "      <td>-93.756</td>\n",
       "      <td>41.918</td>\n",
       "      <td>310.03</td>\n",
       "    </tr>\n",
       "    <tr>\n",
       "      <th>1</th>\n",
       "      <td>-93.756</td>\n",
       "      <td>41.918</td>\n",
       "      <td>310.15</td>\n",
       "    </tr>\n",
       "    <tr>\n",
       "      <th>2</th>\n",
       "      <td>-93.756</td>\n",
       "      <td>41.918</td>\n",
       "      <td>310.14</td>\n",
       "    </tr>\n",
       "    <tr>\n",
       "      <th>3</th>\n",
       "      <td>-93.756</td>\n",
       "      <td>41.918</td>\n",
       "      <td>310.10</td>\n",
       "    </tr>\n",
       "    <tr>\n",
       "      <th>4</th>\n",
       "      <td>-93.756</td>\n",
       "      <td>41.918</td>\n",
       "      <td>309.90</td>\n",
       "    </tr>\n",
       "  </tbody>\n",
       "</table>\n",
       "</div>"
      ],
      "text/plain": [
       "        X       Y       Z\n",
       "0 -93.756  41.918  310.03\n",
       "1 -93.756  41.918  310.15\n",
       "2 -93.756  41.918  310.14\n",
       "3 -93.756  41.918  310.10\n",
       "4 -93.756  41.918  309.90"
      ]
     },
     "execution_count": 12,
     "metadata": {},
     "output_type": "execute_result"
    }
   ],
   "source": [
    "data = pd.read_csv(\"iowa.csv\")\n",
    "data2 = data.iloc[:,-3:]\n",
    "data2.head()"
   ]
  },
  {
   "cell_type": "code",
   "execution_count": null,
   "id": "b72c5664-da6a-4ac8-89dd-2033e4f59025",
   "metadata": {},
   "outputs": [],
   "source": []
  },
  {
   "cell_type": "code",
   "execution_count": 13,
   "id": "5c063e3c-d735-4b51-ae3d-3afc62740307",
   "metadata": {},
   "outputs": [],
   "source": [
    "def generate_geo(pipe, epsg):\n",
    "    try:\n",
    "        cloud_points = []\n",
    "        elevations =[]\n",
    "        geometry_points=[]\n",
    "        for row in pipe.arrays[0]:\n",
    "            lst = row.tolist()[-3:]\n",
    "            cloud_points.append(lst)\n",
    "            elevations.append(lst[2])\n",
    "            point = Point(lst[0], lst[1])\n",
    "            geometry_points.append(point)\n",
    "        geodf = geopandas.GeoDataFrame(columns=[\"elevation\", \"geometry\"])\n",
    "        geodf['elevation'] = elevations\n",
    "        geodf['geometry'] = geometry_points\n",
    "        geodf = geodf.set_geometry(\"geometry\")\n",
    "        geodf.set_crs(epsg = epsg, inplace=True)\n",
    "        return geodf\n",
    "    except RuntimeError as e:\n",
    "        self.logger.exception('fails to extract geo data frame')\n",
    "        print(e)"
   ]
  },
  {
   "cell_type": "code",
   "execution_count": 14,
   "id": "368265d8-8f7d-43e8-93e5-31be92504b92",
   "metadata": {},
   "outputs": [
    {
     "data": {
      "text/html": [
       "<div>\n",
       "<style scoped>\n",
       "    .dataframe tbody tr th:only-of-type {\n",
       "        vertical-align: middle;\n",
       "    }\n",
       "\n",
       "    .dataframe tbody tr th {\n",
       "        vertical-align: top;\n",
       "    }\n",
       "\n",
       "    .dataframe thead th {\n",
       "        text-align: right;\n",
       "    }\n",
       "</style>\n",
       "<table border=\"1\" class=\"dataframe\">\n",
       "  <thead>\n",
       "    <tr style=\"text-align: right;\">\n",
       "      <th></th>\n",
       "      <th>elevation</th>\n",
       "      <th>geometry</th>\n",
       "    </tr>\n",
       "  </thead>\n",
       "  <tbody>\n",
       "    <tr>\n",
       "      <th>0</th>\n",
       "      <td>310.03</td>\n",
       "      <td>POINT (-93.75606 41.91802)</td>\n",
       "    </tr>\n",
       "    <tr>\n",
       "      <th>1</th>\n",
       "      <td>310.15</td>\n",
       "      <td>POINT (-93.75611 41.91802)</td>\n",
       "    </tr>\n",
       "    <tr>\n",
       "      <th>2</th>\n",
       "      <td>310.14</td>\n",
       "      <td>POINT (-93.75613 41.91802)</td>\n",
       "    </tr>\n",
       "    <tr>\n",
       "      <th>3</th>\n",
       "      <td>310.10</td>\n",
       "      <td>POINT (-93.75614 41.91802)</td>\n",
       "    </tr>\n",
       "    <tr>\n",
       "      <th>4</th>\n",
       "      <td>309.90</td>\n",
       "      <td>POINT (-93.75615 41.91802)</td>\n",
       "    </tr>\n",
       "    <tr>\n",
       "      <th>...</th>\n",
       "      <td>...</td>\n",
       "      <td>...</td>\n",
       "    </tr>\n",
       "    <tr>\n",
       "      <th>174</th>\n",
       "      <td>310.21</td>\n",
       "      <td>POINT (-93.75613 41.91810)</td>\n",
       "    </tr>\n",
       "    <tr>\n",
       "      <th>175</th>\n",
       "      <td>310.22</td>\n",
       "      <td>POINT (-93.75609 41.91810)</td>\n",
       "    </tr>\n",
       "    <tr>\n",
       "      <th>176</th>\n",
       "      <td>310.07</td>\n",
       "      <td>POINT (-93.75609 41.91806)</td>\n",
       "    </tr>\n",
       "    <tr>\n",
       "      <th>177</th>\n",
       "      <td>310.05</td>\n",
       "      <td>POINT (-93.75608 41.91803)</td>\n",
       "    </tr>\n",
       "    <tr>\n",
       "      <th>178</th>\n",
       "      <td>310.08</td>\n",
       "      <td>POINT (-93.75610 41.91808)</td>\n",
       "    </tr>\n",
       "  </tbody>\n",
       "</table>\n",
       "<p>179 rows × 2 columns</p>\n",
       "</div>"
      ],
      "text/plain": [
       "     elevation                    geometry\n",
       "0       310.03  POINT (-93.75606 41.91802)\n",
       "1       310.15  POINT (-93.75611 41.91802)\n",
       "2       310.14  POINT (-93.75613 41.91802)\n",
       "3       310.10  POINT (-93.75614 41.91802)\n",
       "4       309.90  POINT (-93.75615 41.91802)\n",
       "..         ...                         ...\n",
       "174     310.21  POINT (-93.75613 41.91810)\n",
       "175     310.22  POINT (-93.75609 41.91810)\n",
       "176     310.07  POINT (-93.75609 41.91806)\n",
       "177     310.05  POINT (-93.75608 41.91803)\n",
       "178     310.08  POINT (-93.75610 41.91808)\n",
       "\n",
       "[179 rows x 2 columns]"
      ]
     },
     "execution_count": 14,
     "metadata": {},
     "output_type": "execute_result"
    }
   ],
   "source": [
    "generate_geo(pipe, 4326)"
   ]
  },
  {
   "cell_type": "code",
   "execution_count": 2,
   "id": "3be47fde-1ab9-43b1-98fc-85fcf5e342f3",
   "metadata": {},
   "outputs": [],
   "source": [
    "from pyproj import Proj, transform\n",
    "\n",
    "def convert_EPSG(fromT, lon, lat):\n",
    "    P3857 = Proj(init='epsg:3857')\n",
    "    P4326 = Proj(init='epsg:4326')\n",
    "    if(fromT == 4326):\n",
    "        input1 = P4326\n",
    "        input2 = P3857\n",
    "    else:\n",
    "        input1=p3857\n",
    "        input2=p4326\n",
    "        \n",
    "    return transform(input1,input2, lon, lat)"
   ]
  },
  {
   "cell_type": "code",
   "execution_count": 4,
   "id": "c177fd31-948a-483f-b394-0f524f1fdaf7",
   "metadata": {},
   "outputs": [
    {
     "data": {
      "text/plain": [
       "(-10436876.301386151, 5148721.349314567)"
      ]
     },
     "execution_count": 4,
     "metadata": {},
     "output_type": "execute_result"
    }
   ],
   "source": [
    "convert_EPSG(4326,-93.756055, 41.918115)"
   ]
  },
  {
   "cell_type": "code",
   "execution_count": 48,
   "id": "c0492f12-4478-4beb-91c1-ecefd22c0928",
   "metadata": {},
   "outputs": [
    {
     "data": {
      "text/plain": [
       "41.918015"
      ]
     },
     "execution_count": 48,
     "metadata": {},
     "output_type": "execute_result"
    }
   ],
   "source": [
    "y"
   ]
  },
  {
   "cell_type": "code",
   "execution_count": null,
   "id": "6bff3a75-a9b9-461b-bd73-d82fbbab9376",
   "metadata": {},
   "outputs": [],
   "source": []
  }
 ],
 "metadata": {
  "kernelspec": {
   "display_name": "Python 3 (ipykernel)",
   "language": "python",
   "name": "python3"
  },
  "language_info": {
   "codemirror_mode": {
    "name": "ipython",
    "version": 3
   },
   "file_extension": ".py",
   "mimetype": "text/x-python",
   "name": "python",
   "nbconvert_exporter": "python",
   "pygments_lexer": "ipython3",
   "version": "3.10.5"
  }
 },
 "nbformat": 4,
 "nbformat_minor": 5
}
