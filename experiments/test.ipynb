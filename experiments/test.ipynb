{
 "cells": [
  {
   "cell_type": "code",
   "execution_count": 24,
   "id": "aaeb4037-473f-4f00-b113-d36e612b889c",
   "metadata": {},
   "outputs": [],
   "source": [
    "import pdal\n",
    "import json\n",
    "import geopandas\n",
    "import pandas as pd\n",
    "from shapely.geometry import Polygon, Point\n",
    "import numpy as np"
   ]
  },
  {
   "cell_type": "code",
   "execution_count": 7,
   "id": "e3924fb4-2bc5-48d0-9465-bb1bb5cf5212",
   "metadata": {},
   "outputs": [],
   "source": [
    "# loading json file\n",
    "def read_json(json_path):\n",
    "    try:\n",
    "        with open(json_path) as js:\n",
    "            json_obj = json.load(js)\n",
    "        return json_obj\n",
    "\n",
    "    except FileNotFoundError:\n",
    "        print('File not found.')\n"
   ]
  },
  {
   "cell_type": "code",
   "execution_count": 8,
   "id": "01ceb63b-e5d4-47cb-ad93-6c1ddf80cce3",
   "metadata": {},
   "outputs": [],
   "source": [
    "dicti = read_json(\"./LIDAR_ETL/experiments/pdal.json\")"
   ]
  },
  {
   "cell_type": "code",
   "execution_count": 9,
   "id": "e85bee3b-6aad-4215-9dca-e811888317ce",
   "metadata": {},
   "outputs": [
    {
     "data": {
      "text/plain": [
       "<pdal.pipeline.Pipeline at 0x7f5eef5644a0>"
      ]
     },
     "execution_count": 9,
     "metadata": {},
     "output_type": "execute_result"
    }
   ],
   "source": [
    "pipe = pdal.Pipeline(json.dumps(dicti))\n",
    "pipe"
   ]
  },
  {
   "cell_type": "code",
   "execution_count": 10,
   "id": "6a640173-d943-489e-9f1e-01d9346965f2",
   "metadata": {},
   "outputs": [
    {
     "data": {
      "text/plain": [
       "2"
      ]
     },
     "execution_count": 10,
     "metadata": {},
     "output_type": "execute_result"
    }
   ],
   "source": [
    "pipe.execute()"
   ]
  },
  {
   "cell_type": "code",
   "execution_count": 11,
   "id": "3d1e7490-a90f-477d-8b2d-dd152c13652c",
   "metadata": {},
   "outputs": [
    {
     "data": {
      "text/plain": [
       "[array([(1, 0, 56180.84262338, 52, 2, 17583, 85, 1, 8., 0, 69, 446112.7609777 , 4652587.53359158, 301.01),\n",
       "        (2, 0, 56180.85993333, 17, 2, 17583, 85, 2, 8., 1, 69, 446112.59718192, 4652586.53452852, 290.58)],\n",
       "       dtype=[('Classification', 'u1'), ('EdgeOfFlightLine', 'u1'), ('GpsTime', '<f8'), ('Intensity', '<u2'), ('NumberOfReturns', 'u1'), ('OriginId', '<u4'), ('PointSourceId', '<u2'), ('ReturnNumber', 'u1'), ('ScanAngleRank', '<f4'), ('ScanDirectionFlag', 'u1'), ('UserData', 'u1'), ('X', '<f8'), ('Y', '<f8'), ('Z', '<f8')])]"
      ]
     },
     "execution_count": 11,
     "metadata": {},
     "output_type": "execute_result"
    }
   ],
   "source": [
    "pipe.arrays"
   ]
  },
  {
   "cell_type": "code",
   "execution_count": 18,
   "id": "bfcd1c94-4968-425d-9543-99d9c2234ab5",
   "metadata": {},
   "outputs": [
    {
     "data": {
      "text/html": [
       "<div>\n",
       "<style scoped>\n",
       "    .dataframe tbody tr th:only-of-type {\n",
       "        vertical-align: middle;\n",
       "    }\n",
       "\n",
       "    .dataframe tbody tr th {\n",
       "        vertical-align: top;\n",
       "    }\n",
       "\n",
       "    .dataframe thead th {\n",
       "        text-align: right;\n",
       "    }\n",
       "</style>\n",
       "<table border=\"1\" class=\"dataframe\">\n",
       "  <thead>\n",
       "    <tr style=\"text-align: right;\">\n",
       "      <th></th>\n",
       "      <th>X</th>\n",
       "      <th>Y</th>\n",
       "      <th>Z</th>\n",
       "    </tr>\n",
       "  </thead>\n",
       "  <tbody>\n",
       "    <tr>\n",
       "      <th>0</th>\n",
       "      <td>446112.761</td>\n",
       "      <td>4652587.534</td>\n",
       "      <td>301.01</td>\n",
       "    </tr>\n",
       "    <tr>\n",
       "      <th>1</th>\n",
       "      <td>446112.597</td>\n",
       "      <td>4652586.535</td>\n",
       "      <td>290.58</td>\n",
       "    </tr>\n",
       "  </tbody>\n",
       "</table>\n",
       "</div>"
      ],
      "text/plain": [
       "            X            Y       Z\n",
       "0  446112.761  4652587.534  301.01\n",
       "1  446112.597  4652586.535  290.58"
      ]
     },
     "execution_count": 18,
     "metadata": {},
     "output_type": "execute_result"
    }
   ],
   "source": [
    "data = pd.read_csv(\"iowa.csv\")\n",
    "data2 = data.iloc[:,-3:]\n",
    "data2"
   ]
  },
  {
   "cell_type": "code",
   "execution_count": 27,
   "id": "6ea018dd-dcdc-48ed-a38e-229234f31a3f",
   "metadata": {},
   "outputs": [
    {
     "name": "stdout",
     "output_type": "stream",
     "text": [
      "<class 'numpy.ndarray'>\n",
      "<class 'numpy.ndarray'>\n"
     ]
    },
    {
     "data": {
      "text/html": [
       "<div>\n",
       "<style scoped>\n",
       "    .dataframe tbody tr th:only-of-type {\n",
       "        vertical-align: middle;\n",
       "    }\n",
       "\n",
       "    .dataframe tbody tr th {\n",
       "        vertical-align: top;\n",
       "    }\n",
       "\n",
       "    .dataframe thead th {\n",
       "        text-align: right;\n",
       "    }\n",
       "</style>\n",
       "<table border=\"1\" class=\"dataframe\">\n",
       "  <thead>\n",
       "    <tr style=\"text-align: right;\">\n",
       "      <th></th>\n",
       "      <th>elevation</th>\n",
       "      <th>geometry</th>\n",
       "    </tr>\n",
       "  </thead>\n",
       "  <tbody>\n",
       "    <tr>\n",
       "      <th>0</th>\n",
       "      <td>301.01</td>\n",
       "      <td>None</td>\n",
       "    </tr>\n",
       "    <tr>\n",
       "      <th>1</th>\n",
       "      <td>290.58</td>\n",
       "      <td>None</td>\n",
       "    </tr>\n",
       "  </tbody>\n",
       "</table>\n",
       "</div>"
      ],
      "text/plain": [
       "   elevation geometry\n",
       "0     301.01     None\n",
       "1     290.58     None"
      ]
     },
     "execution_count": 27,
     "metadata": {},
     "output_type": "execute_result"
    }
   ],
   "source": [
    "geodf = geopandas.GeoDataFrame(columns=[\"elevation\", \"geometry\"])\n",
    "geodf[\"elevation\"] = data2[\"Z\"]\n",
    "geodf[\"geometry\"] = data2[[\"X\", \"Y\"]].apply(lambda x: print(type(x.to_numpy())))\n",
    "geodf"
   ]
  },
  {
   "cell_type": "code",
   "execution_count": null,
   "id": "3be47fde-1ab9-43b1-98fc-85fcf5e342f3",
   "metadata": {},
   "outputs": [],
   "source": []
  }
 ],
 "metadata": {
  "kernelspec": {
   "display_name": "Python 3 (ipykernel)",
   "language": "python",
   "name": "python3"
  },
  "language_info": {
   "codemirror_mode": {
    "name": "ipython",
    "version": 3
   },
   "file_extension": ".py",
   "mimetype": "text/x-python",
   "name": "python",
   "nbconvert_exporter": "python",
   "pygments_lexer": "ipython3",
   "version": "3.10.5"
  }
 },
 "nbformat": 4,
 "nbformat_minor": 5
}
